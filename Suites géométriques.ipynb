{
 "cells": [
  {
   "cell_type": "markdown",
   "metadata": {},
   "source": [
    "# <span style='color:black'>**$$Les \\hspace{0.3cm}  suites  \\hspace{0.3cm}  géométriques$$**</span> "
   ]
  },
  {
   "cell_type": "markdown",
   "metadata": {},
   "source": [
    "## Exercice 1"
   ]
  },
  {
   "cell_type": "markdown",
   "metadata": {},
   "source": [
    "On considère une suite géométrique de premier terme u0 et de raison q. L'algorithme suivant calcule alors le terme de rang n où n est donné au moment de la saisie :"
   ]
  },
  {
   "cell_type": "code",
   "execution_count": 1,
   "metadata": {},
   "outputs": [],
   "source": [
    "def premierexemple(u0,q,n):\n",
    "    u=u0*q**n\n",
    "    print(u)"
   ]
  },
  {
   "cell_type": "markdown",
   "metadata": {},
   "source": [
    "Utiliser cet algorithme pour calculer $u(10)$ pour une suite géométrique de raison 2 et de premier terme 1 :"
   ]
  },
  {
   "cell_type": "code",
   "execution_count": null,
   "metadata": {},
   "outputs": [],
   "source": []
  },
  {
   "cell_type": "markdown",
   "metadata": {},
   "source": [
    "Recopier cet algorithme en modifiant la dernière ligne pour qu'il affiche une phrase réponse du type \"Le terme recherché est ...\" :"
   ]
  },
  {
   "cell_type": "code",
   "execution_count": null,
   "metadata": {},
   "outputs": [],
   "source": []
  },
  {
   "cell_type": "markdown",
   "metadata": {},
   "source": [
    "Tester cet algorithme pour calculer de nouveau $u(10)$ pour une suite géométrique de raison 2 et de premier terme 1 :"
   ]
  },
  {
   "cell_type": "code",
   "execution_count": null,
   "metadata": {},
   "outputs": [],
   "source": []
  },
  {
   "cell_type": "markdown",
   "metadata": {},
   "source": [
    "## Exercice 2"
   ]
  },
  {
   "cell_type": "markdown",
   "metadata": {},
   "source": [
    "Clément a commencé à travailler le 1er janvier 2002. Son salaire mensuel était de 1 240 €. Chaque année, son salaire a augmenté de 5%. \n",
    "\n",
    "Compléter alors l'algorithme ci-dessous pour qu'il réponde à cette question :"
   ]
  },
  {
   "cell_type": "code",
   "execution_count": null,
   "metadata": {},
   "outputs": [],
   "source": [
    "def salaire(u0,q,n):\n",
    "    u=.....\n",
    "    u=round(u,2)\n",
    "    annee=\n",
    "    print(\"Le salaire de Clément en\", annee, \"est\", u)"
   ]
  },
  {
   "cell_type": "markdown",
   "metadata": {},
   "source": [
    "Utiliser cet algorithme pour répondre à la question posée :"
   ]
  },
  {
   "cell_type": "code",
   "execution_count": null,
   "metadata": {},
   "outputs": [],
   "source": []
  },
  {
   "cell_type": "markdown",
   "metadata": {},
   "source": [
    "On cherche maintenant à savoir au bout de combien d’années Clément a commencé à gagner plus de 20 000 € par an. \n",
    "\n",
    "Compléter l'algorithme suivant pour qu'il réponde à cette question en faisant une phrase réponse du style \"C'est au bout de ....\" :"
   ]
  },
  {
   "cell_type": "code",
   "execution_count": 1,
   "metadata": {},
   "outputs": [],
   "source": [
    "def seuil(A):\n",
    "    u=1240*12\n",
    "    n=0\n",
    "    while u.....:\n",
    "        u=......\n",
    "        n=n+1\n",
    "    annee=.......\n",
    "    print(.......)"
   ]
  },
  {
   "cell_type": "markdown",
   "metadata": {},
   "source": [
    "Utiliser cet algorithme pour répondre à la question posée :"
   ]
  },
  {
   "cell_type": "code",
   "execution_count": null,
   "metadata": {},
   "outputs": [],
   "source": []
  },
  {
   "cell_type": "markdown",
   "metadata": {},
   "source": [
    "On cherche maintenant à savoir combien Clément a gagné en tout depuis ses débuts dans l’entreprise jusqu’au 31 décembre 2007. \n",
    "\n",
    "Pour cela, on utilise une boucle \"pour\" ou \"for\" qui va servir à traduire la notion de répétition. \n",
    "\n",
    "Compléter alors l'algorithme ci-dessous pour qu'il réponde à cette question :"
   ]
  },
  {
   "cell_type": "code",
   "execution_count": null,
   "metadata": {},
   "outputs": [],
   "source": [
    "def salairecumulé(annee):\n",
    "    n=annee-2002\n",
    "    u=12240\n",
    "    S=12240\n",
    "    for k in range (1,n+1):\n",
    "        u=......\n",
    "        S=......\n",
    "    S=round(S,2)\n",
    "    print(\"De 2002 jusqu'en\",annee,\"Clément a gagné\",S)"
   ]
  },
  {
   "cell_type": "markdown",
   "metadata": {},
   "source": [
    "Utiliser cet algorithme pour répondre à la question posée :"
   ]
  },
  {
   "cell_type": "code",
   "execution_count": null,
   "metadata": {},
   "outputs": [],
   "source": []
  },
  {
   "cell_type": "markdown",
   "metadata": {},
   "source": [
    "## Exercice 3"
   ]
  },
  {
   "cell_type": "markdown",
   "metadata": {},
   "source": [
    "Une unité de production fabrique 5 000 pièces en 2019 puis augmente se production de 4% chaque année. \n",
    "\n",
    "Compléter l'algorithme suivant qui a pour but de calculer au bout de n années :"
   ]
  },
  {
   "cell_type": "code",
   "execution_count": null,
   "metadata": {},
   "outputs": [],
   "source": [
    "def production(t,n):\n",
    "    q=...\n",
    "    u=...\n",
    "    for k in range(1,n+1):\n",
    "        u=u*q\n",
    "    print(...)"
   ]
  },
  {
   "cell_type": "markdown",
   "metadata": {},
   "source": [
    "Utiliser cet algorithme pour calculer la production en 2022 :"
   ]
  },
  {
   "cell_type": "code",
   "execution_count": null,
   "metadata": {},
   "outputs": [],
   "source": []
  },
  {
   "cell_type": "markdown",
   "metadata": {},
   "source": [
    "On cherche maintenant à savoir à partir de quelle année cette production dépassera 6 000 pièces par an. \n",
    "\n",
    "Pour cela, on va utiliser cette fois une boucle \"tant que\" (while en anglais) et non plus une boucle \"pour\" (for en anglais) car on ne sait pas à l'avance combien de fois on va devoir répéter le calcul. \n",
    "\n",
    "Ecrire un algorithme pour qu'il réponde à cette question :"
   ]
  },
  {
   "cell_type": "code",
   "execution_count": 6,
   "metadata": {},
   "outputs": [],
   "source": []
  },
  {
   "cell_type": "markdown",
   "metadata": {},
   "source": [
    "Utiliser cet algorithme pour répondre à la question posée :"
   ]
  },
  {
   "cell_type": "code",
   "execution_count": null,
   "metadata": {},
   "outputs": [],
   "source": []
  }
 ],
 "metadata": {
  "kernelspec": {
   "display_name": "Python 3",
   "language": "python",
   "name": "python3"
  },
  "language_info": {
   "codemirror_mode": {
    "name": "ipython",
    "version": 3
   },
   "file_extension": ".py",
   "mimetype": "text/x-python",
   "name": "python",
   "nbconvert_exporter": "python",
   "pygments_lexer": "ipython3",
   "version": "3.8.5"
  }
 },
 "nbformat": 4,
 "nbformat_minor": 4
}
