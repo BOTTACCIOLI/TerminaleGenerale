{
 "cells": [
  {
   "cell_type": "markdown",
   "metadata": {},
   "source": [
    "# Algorithme 1"
   ]
  },
  {
   "cell_type": "markdown",
   "metadata": {},
   "source": [
    "Des biologistes étudient l'évolution d'une population d'insectes dans un jardin botanique. \n",
    "Au début de l'étude, la population est de 100 000 insectes. \n",
    "\n",
    "Ils modélisent le nombre d'insectes à l'aide de la suite $(v_n)$ définie par $v_0=0,1$ et pour tout entier naturel $n$ par $v_(n+1)=1,6 v_n-1,6v_n ^2$ où $v_n$ désigne le nombre d'insectes, exprimé en millions au bout de $n$ mois. \n",
    "\n",
    "On considère la fonction seuil écrite ci-dessous en langage Python :"
   ]
  },
  {
   "cell_type": "code",
   "execution_count": 3,
   "metadata": {},
   "outputs": [],
   "source": [
    "def seuil(a):\n",
    "    v=0.1\n",
    "    n=0\n",
    "    while v<a:\n",
    "        v=1.6*v-1.6*v*v\n",
    "        n=n+1\n",
    "    return(n)"
   ]
  },
  {
   "cell_type": "markdown",
   "metadata": {},
   "source": [
    "a) Qu'observe-t-on si on saisit seuil(0.4) ? "
   ]
  },
  {
   "cell_type": "markdown",
   "metadata": {},
   "source": []
  },
  {
   "cell_type": "markdown",
   "metadata": {},
   "source": [
    "b) Déterminer la valeur renvoyée par la saisie de seuil(0.35) et interpréter cette valeur dans le contexte de l'exercice. "
   ]
  },
  {
   "cell_type": "code",
   "execution_count": null,
   "metadata": {},
   "outputs": [],
   "source": []
  }
 ],
 "metadata": {
  "kernelspec": {
   "display_name": "Python 3",
   "language": "python",
   "name": "python3"
  },
  "language_info": {
   "codemirror_mode": {
    "name": "ipython",
    "version": 3
   },
   "file_extension": ".py",
   "mimetype": "text/x-python",
   "name": "python",
   "nbconvert_exporter": "python",
   "pygments_lexer": "ipython3",
   "version": "3.8.5"
  }
 },
 "nbformat": 4,
 "nbformat_minor": 4
}
