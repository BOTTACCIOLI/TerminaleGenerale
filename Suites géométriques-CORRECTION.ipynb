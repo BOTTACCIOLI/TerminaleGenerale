{
 "cells": [
  {
   "cell_type": "markdown",
   "metadata": {},
   "source": [
    "# <span style='color:black'>**$$Les \\hspace{0.3cm}  suites  \\hspace{0.3cm}  géométriques$$**</span> \n",
    "# <span style='color:red'>**$$  CORRECTION $$**</span> "
   ]
  },
  {
   "cell_type": "markdown",
   "metadata": {},
   "source": [
    "## Exercice 1"
   ]
  },
  {
   "cell_type": "markdown",
   "metadata": {},
   "source": [
    "On considère une suite géométrique de premier terme u0 et de raison q. L'algorithme suivant calcule alors le terme de rang n où n est donné au moment de la saisie :"
   ]
  },
  {
   "cell_type": "code",
   "execution_count": 1,
   "metadata": {},
   "outputs": [],
   "source": [
    "def premierexemple(u0,q,n):\n",
    "    u=u0*q**n\n",
    "    print(u)"
   ]
  },
  {
   "cell_type": "markdown",
   "metadata": {},
   "source": [
    "Utiliser cet algorithme pour calculer $u(10)$ pour une suite géométrique de raison 2 et de premier terme 1 :"
   ]
  },
  {
   "cell_type": "code",
   "execution_count": 2,
   "metadata": {},
   "outputs": [
    {
     "name": "stdout",
     "output_type": "stream",
     "text": [
      "1024\n"
     ]
    }
   ],
   "source": [
    "premierexemple(1,2,10)"
   ]
  },
  {
   "cell_type": "markdown",
   "metadata": {},
   "source": [
    "Recopier cet algorithme en modifiant la dernière ligne pour qu'il affiche une phrase réponse du type \"Le terme recherché est ...\" :"
   ]
  },
  {
   "cell_type": "code",
   "execution_count": 3,
   "metadata": {},
   "outputs": [],
   "source": [
    "def premierexemple(u0,q,n):\n",
    "    u=u0*q**n\n",
    "    print(\"Le terme recherché est\",u)"
   ]
  },
  {
   "cell_type": "markdown",
   "metadata": {},
   "source": [
    "Tester cet algorithme pour calculer de nouveau $u(10)$ pour une suite géométrique de raison 2 et de premier terme 1 :"
   ]
  },
  {
   "cell_type": "code",
   "execution_count": 4,
   "metadata": {},
   "outputs": [
    {
     "name": "stdout",
     "output_type": "stream",
     "text": [
      "Le terme recherché est 1024\n"
     ]
    }
   ],
   "source": [
    "premierexemple(1,2,10)"
   ]
  },
  {
   "cell_type": "markdown",
   "metadata": {},
   "source": [
    "## Exercice 2"
   ]
  },
  {
   "cell_type": "markdown",
   "metadata": {},
   "source": [
    "Clément a commencé à travailler le 1er janvier 2002. Son salaire mensuel était de 1 240 €. Chaque année, son salaire a augmenté de 5%. \n",
    "\n",
    "On cherche à savoir combien va gagner Clément par mois en 2007. \n",
    "\n",
    "Compléter alors l'algorithme ci-dessous pour qu'il réponde à cette question :"
   ]
  },
  {
   "cell_type": "code",
   "execution_count": 7,
   "metadata": {},
   "outputs": [],
   "source": [
    "def salaire(u0,q,n):\n",
    "    u=u0*q**n\n",
    "    u=round(u,2)\n",
    "    annee=2002+n\n",
    "    print(\"Le salaire de Clément en\", annee, \"est de \", u,\"€\")"
   ]
  },
  {
   "cell_type": "markdown",
   "metadata": {},
   "source": [
    "Utiliser cet algorithme pour répondre à la question posée :"
   ]
  },
  {
   "cell_type": "code",
   "execution_count": 8,
   "metadata": {},
   "outputs": [
    {
     "name": "stdout",
     "output_type": "stream",
     "text": [
      "Le salaire de Clément en 2007 est de  1582.59 €\n"
     ]
    }
   ],
   "source": [
    "salaire(1240,1.05,5)"
   ]
  },
  {
   "cell_type": "markdown",
   "metadata": {},
   "source": [
    "On cherche maintenant à savoir au bout de combien d’années Clément a commencé à gagner plus de 20 000 € par an. \n",
    "\n",
    "Compléter l'algorithme suivant pour qu'il réponde à cette question en faisant une phrase réponse du style \"C'est à partir de ....\" :"
   ]
  },
  {
   "cell_type": "code",
   "execution_count": 12,
   "metadata": {},
   "outputs": [],
   "source": [
    "def seuil(A):\n",
    "    u=1240*12\n",
    "    n=0\n",
    "    while u<A:\n",
    "        u=u*1.05\n",
    "        n=n+1\n",
    "    annee=2002+n\n",
    "    print(\"C'est à partir de\", annee, \"que Clément va commencer à gagner plus de\", A,\"€ par an\")"
   ]
  },
  {
   "cell_type": "markdown",
   "metadata": {},
   "source": [
    "Utiliser cet algorithme pour répondre à la question posée :"
   ]
  },
  {
   "cell_type": "code",
   "execution_count": 13,
   "metadata": {},
   "outputs": [
    {
     "name": "stdout",
     "output_type": "stream",
     "text": [
      "C'est à partir de 2009 que Clément va commencer à gagner plus de 20000 € par an\n"
     ]
    }
   ],
   "source": [
    "seuil(20000)"
   ]
  },
  {
   "cell_type": "markdown",
   "metadata": {},
   "source": [
    "On cherche maintenant à savoir combien Clément a gagné en tout depuis ses débuts dans l’entreprise jusqu’au 31 décembre 2007. \n",
    "\n",
    "Pour cela, on utilise une boucle \"pour\" ou \"for\" qui va servir à traduire la notion de répétition. \n",
    "\n",
    "Compléter alors l'algorithme ci-dessous pour qu'il réponde à cette question :"
   ]
  },
  {
   "cell_type": "code",
   "execution_count": 16,
   "metadata": {},
   "outputs": [],
   "source": [
    "def salairecumulé(annee):\n",
    "    n=annee-2002\n",
    "    u=12240\n",
    "    S=12240\n",
    "    for k in range (1,n+1):\n",
    "        u=u*1.05\n",
    "        S=S+u\n",
    "    S=round(S,2)\n",
    "    print(\"De 2002 jusqu'en\",annee,\"Clément a gagné\",S, \"€\")"
   ]
  },
  {
   "cell_type": "markdown",
   "metadata": {},
   "source": [
    "Utiliser cet algorithme pour répondre à la question posée :"
   ]
  },
  {
   "cell_type": "code",
   "execution_count": 17,
   "metadata": {},
   "outputs": [
    {
     "name": "stdout",
     "output_type": "stream",
     "text": [
      "De 2002 jusqu'en 2007 Clément a gagné 83255.41 €\n"
     ]
    }
   ],
   "source": [
    "salairecumulé(2007)"
   ]
  },
  {
   "cell_type": "markdown",
   "metadata": {},
   "source": [
    "## Exercice 3"
   ]
  },
  {
   "cell_type": "markdown",
   "metadata": {},
   "source": [
    "Une unité de production fabrique 5 000 pièces en 2019 puis augmente se production de 4% chaque année. \n",
    "\n",
    "Compléter l'algorithme suivant qui a pour but de calculer la production au bout de n années :"
   ]
  },
  {
   "cell_type": "code",
   "execution_count": 20,
   "metadata": {},
   "outputs": [],
   "source": [
    "def production(t,n):\n",
    "    q=1+t/100\n",
    "    u=5000\n",
    "    for k in range(1,n+1):\n",
    "        u=u*q\n",
    "    u=round(u,0)\n",
    "    print(\"Au bout de\", n,\"années, la production sera de\",u,\"pièces\")"
   ]
  },
  {
   "cell_type": "markdown",
   "metadata": {},
   "source": [
    "Utiliser cet algorithme pour calculer la production en 2022 :"
   ]
  },
  {
   "cell_type": "code",
   "execution_count": 21,
   "metadata": {},
   "outputs": [
    {
     "name": "stdout",
     "output_type": "stream",
     "text": [
      "Au bout de 3 années, la production sera de 5624.0 pièces\n"
     ]
    }
   ],
   "source": [
    "production(4,3)"
   ]
  },
  {
   "cell_type": "markdown",
   "metadata": {},
   "source": [
    "On cherche maintenant à savoir à partir de quelle année cette production dépassera 6 000 pièces par an. \n",
    "\n",
    "Pour cela, on va utiliser cette fois une boucle \"tant que\" (while en anglais) et non plus une boucle \"pour\" (for en anglais) car on ne sait pas à l'avance combien de fois on va devoir répéter le calcul. \n",
    "\n",
    "Ecrire un algorithme pour qu'il réponde à cette question :"
   ]
  },
  {
   "cell_type": "code",
   "execution_count": 22,
   "metadata": {},
   "outputs": [],
   "source": [
    "def seuil(A):\n",
    "    u=5000\n",
    "    n=0\n",
    "    while u<A:\n",
    "        u=u*1.04\n",
    "        n=n+1\n",
    "    annee=2002+n\n",
    "    print(\"C'est à partir de\", annee, \"que la production va dépasser\", A,\"pièces par an\")"
   ]
  },
  {
   "cell_type": "markdown",
   "metadata": {},
   "source": [
    "Utiliser cet algorithme pour répondre à la question posée :"
   ]
  },
  {
   "cell_type": "code",
   "execution_count": 23,
   "metadata": {},
   "outputs": [
    {
     "name": "stdout",
     "output_type": "stream",
     "text": [
      "C'est à partir de 2007 que la production va dépasser 6000 pièces par an\n"
     ]
    }
   ],
   "source": [
    "seuil(6000)"
   ]
  }
 ],
 "metadata": {
  "kernelspec": {
   "display_name": "Python 3",
   "language": "python",
   "name": "python3"
  },
  "language_info": {
   "codemirror_mode": {
    "name": "ipython",
    "version": 3
   },
   "file_extension": ".py",
   "mimetype": "text/x-python",
   "name": "python",
   "nbconvert_exporter": "python",
   "pygments_lexer": "ipython3",
   "version": "3.8.5"
  }
 },
 "nbformat": 4,
 "nbformat_minor": 4
}
